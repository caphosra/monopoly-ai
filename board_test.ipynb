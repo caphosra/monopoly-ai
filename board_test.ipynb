{
 "metadata": {
  "language_info": {
   "codemirror_mode": {
    "name": "ipython",
    "version": 3
   },
   "file_extension": ".py",
   "mimetype": "text/x-python",
   "name": "python",
   "nbconvert_exporter": "python",
   "pygments_lexer": "ipython3",
   "version": "3.8.5-final"
  },
  "orig_nbformat": 2,
  "kernelspec": {
   "name": "Python 3.8.5 64-bit ('tfgpu': venv)",
   "display_name": "Python 3.8.5 64-bit ('tfgpu': venv)",
   "metadata": {
    "interpreter": {
     "hash": "8a17d36cae4d288d62110388a233f058324c6d435ff18043787f2a04a478a656"
    }
   }
  }
 },
 "nbformat": 4,
 "nbformat_minor": 2,
 "cells": [
  {
   "source": [
    "## HYPERPARAMETERS"
   ],
   "cell_type": "markdown",
   "metadata": {}
  },
  {
   "cell_type": "code",
   "execution_count": null,
   "metadata": {},
   "outputs": [],
   "source": [
    "PLAYER_COUNT = 4"
   ]
  },
  {
   "source": [
    "## Generate a board randomly"
   ],
   "cell_type": "markdown",
   "metadata": {}
  },
  {
   "cell_type": "code",
   "execution_count": null,
   "metadata": {
    "tags": []
   },
   "outputs": [],
   "source": [
    "from monopoly import places\n",
    "from monopoly import board\n",
    "\n",
    "board_data = board.MonopolyBoard(PLAYER_COUNT)\n",
    "\n",
    "board_data.randomize()\n",
    "print(board_data)"
   ]
  },
  {
   "source": [
    "## Each player roll the dice "
   ],
   "cell_type": "markdown",
   "metadata": {}
  },
  {
   "cell_type": "code",
   "execution_count": null,
   "metadata": {
    "tags": []
   },
   "outputs": [],
   "source": [
    "for i in range(PLAYER_COUNT):\n",
    "    board_data.dice()\n",
    "\n",
    "print(board_data)"
   ]
  }
 ]
}