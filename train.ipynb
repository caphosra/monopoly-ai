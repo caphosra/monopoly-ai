{
 "metadata": {
  "language_info": {
   "codemirror_mode": {
    "name": "ipython",
    "version": 3
   },
   "file_extension": ".py",
   "mimetype": "text/x-python",
   "name": "python",
   "nbconvert_exporter": "python",
   "pygments_lexer": "ipython3",
   "version": "3.8.5-final"
  },
  "orig_nbformat": 2,
  "kernelspec": {
   "name": "Python 3.8.5 64-bit ('tfgpu')",
   "display_name": "Python 3.8.5 64-bit ('tfgpu')",
   "metadata": {
    "interpreter": {
     "hash": "8a17d36cae4d288d62110388a233f058324c6d435ff18043787f2a04a478a656"
    }
   }
  }
 },
 "nbformat": 4,
 "nbformat_minor": 2,
 "cells": [
  {
   "source": [
    "## HYPERPARAMETERS"
   ],
   "cell_type": "markdown",
   "metadata": {}
  },
  {
   "cell_type": "code",
   "execution_count": null,
   "metadata": {},
   "outputs": [],
   "source": [
    "from tensorboard.plugins.hparams import api as hp\n",
    "\n",
    "LAYER1_NODE = 256\n",
    "LAYER2_NODE = 256\n",
    "\n",
    "DATA_SIZE = 1000\n",
    "EPOCH = 1000\n",
    "\n",
    "MEMO = \"Use RMSProp\""
   ]
  },
  {
   "source": [
    "## Initialize board"
   ],
   "cell_type": "markdown",
   "metadata": {}
  },
  {
   "cell_type": "code",
   "execution_count": null,
   "metadata": {
    "tags": []
   },
   "outputs": [],
   "source": [
    "from monopoly.board import MonopolyBoard\n",
    "\n",
    "board_data = MonopolyBoard(4)\n",
    "board_data.randomize()\n",
    "print(board_data)"
   ]
  },
  {
   "source": [
    "## Check the version and the device to be ran on"
   ],
   "cell_type": "markdown",
   "metadata": {}
  },
  {
   "cell_type": "code",
   "execution_count": null,
   "metadata": {
    "tags": []
   },
   "outputs": [],
   "source": [
    "from tensorflow.python.client import device_lib\n",
    "import tensorflow as tf\n",
    "\n",
    "print(\"Tensorflow version:\", tf.version.VERSION)\n",
    "print(device_lib.list_local_devices())"
   ]
  },
  {
   "source": [
    "## Initialize summary writer\n",
    "\n",
    "It is required to use tensorboard."
   ],
   "cell_type": "markdown",
   "metadata": {}
  },
  {
   "cell_type": "code",
   "execution_count": null,
   "metadata": {},
   "outputs": [],
   "source": [
    "import datetime\n",
    "\n",
    "current_time = datetime.datetime.now().strftime(\"%Y%m%d-%H%M%S\")\n",
    "log_dir = \"logs/\" + current_time\n",
    "summary_writer = tf.summary.create_file_writer(log_dir)\n",
    "\n",
    "with summary_writer.as_default():\n",
    "    tf.summary.text(\"memo\", MEMO, step=0)"
   ]
  },
  {
   "source": [
    "## Initialize model"
   ],
   "cell_type": "markdown",
   "metadata": {}
  },
  {
   "cell_type": "code",
   "execution_count": null,
   "metadata": {},
   "outputs": [],
   "source": [
    "from analyzer.models import MonopolyModel\n",
    "from analyzer.trainer import MonopolyAITrainer\n",
    "\n",
    "model = MonopolyModel(LAYER1_NODE, LAYER2_NODE, 4)\n",
    "loss_object = tf.keras.losses.MeanSquaredError()\n",
    "optimizer = tf.keras.optimizers.RMSprop()\n",
    "\n",
    "train_loss = tf.keras.metrics.Mean()\n",
    "test_loss = tf.keras.metrics.Mean()\n",
    "\n",
    "trainer = MonopolyAITrainer(model, loss_object, optimizer, train_loss, test_loss)"
   ]
  },
  {
   "source": [
    "## Train the model"
   ],
   "cell_type": "markdown",
   "metadata": {}
  },
  {
   "cell_type": "code",
   "execution_count": null,
   "metadata": {
    "tags": []
   },
   "outputs": [],
   "source": [
    "from analyzer.datageneration import generate_data\n",
    "\n",
    "trainer.reset()\n",
    "\n",
    "for epoch in range(EPOCH):\n",
    "    trainer.train(DATA_SIZE)\n",
    "\n",
    "    with summary_writer.as_default():\n",
    "        tf.summary.scalar(\"loss/train\", trainer.train_loss.result(), step=epoch)\n",
    "\n",
    "    trainer.test(DATA_SIZE)\n",
    "\n",
    "    with summary_writer.as_default():\n",
    "        tf.summary.scalar(\"loss/test\", trainer.test_loss.result(), step=epoch)\n",
    "\n",
    "    if epoch % 10 == 0:\n",
    "        with summary_writer.as_default():\n",
    "            tf.summary.histogram(\"layer1/weights\", trainer.model.d1.kernel, step=epoch)\n",
    "            tf.summary.histogram(\"layer1/bias\", trainer.model.d1.bias, step=epoch)\n",
    "            tf.summary.histogram(\"layer2/weights\", trainer.model.d2.kernel, step=epoch)\n",
    "            tf.summary.histogram(\"layer2/bias\", trainer.model.d2.bias, step=epoch)\n",
    "            tf.summary.histogram(\"layer3/weights\", trainer.model.d3.kernel, step=epoch)\n",
    "            tf.summary.histogram(\"layer3/bias\", trainer.model.d3.bias, step=epoch)\n",
    "\n",
    "    trainer.reset()"
   ]
  }
 ]
}